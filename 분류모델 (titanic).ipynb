{
 "cells": [
  {
   "cell_type": "markdown",
   "id": "b723f627-86cb-4538-8005-4c5299631180",
   "metadata": {},
   "source": [
    "!pip install xgboost\n",
    "!pip install hyperopt"
   ]
  },
  {
   "cell_type": "markdown",
   "id": "8e147652-c78a-48bd-814f-270c7f8b96a7",
   "metadata": {
    "jp-MarkdownHeadingCollapsed": true
   },
   "source": [
    "## 0. 필요한 라이브러리 불러오기"
   ]
  },
  {
   "cell_type": "code",
   "execution_count": 1,
   "id": "a4d25333-1950-46df-9d7d-db83d989d162",
   "metadata": {},
   "outputs": [],
   "source": [
    "import pandas as pd\n",
    "import numpy as np\n",
    "import time\n",
    "\n",
    "from sklearn.preprocessing import StandardScaler, OneHotEncoder, LabelEncoder\n",
    "from sklearn.model_selection import train_test_split, GridSearchCV, cross_val_score\n",
    "from sklearn.neighbors import KNeighborsClassifier\n",
    "from sklearn.tree import DecisionTreeClassifier\n",
    "from sklearn.ensemble import VotingClassifier, RandomForestClassifier, GradientBoostingClassifier\n",
    "from xgboost import XGBClassifier\n",
    "\n",
    "from sklearn import metrics\n",
    "\n",
    "from hyperopt import hp, STATUS_OK, fmin, Trials\n"
   ]
  },
  {
   "cell_type": "markdown",
   "id": "3291199c-09a3-4d1d-932d-fea5bf192ac6",
   "metadata": {
    "jp-MarkdownHeadingCollapsed": true
   },
   "source": [
    "## 1. 데이터 불러오기"
   ]
  },
  {
   "cell_type": "code",
   "execution_count": 2,
   "id": "0619d549-25a4-4eec-b267-0dd510a3902b",
   "metadata": {},
   "outputs": [],
   "source": [
    "titanic = pd.read_csv(\"titanic/train.csv\")"
   ]
  },
  {
   "cell_type": "code",
   "execution_count": 3,
   "id": "a78b2eb6-3a30-43a0-b5e2-5e174497e76e",
   "metadata": {},
   "outputs": [
    {
     "name": "stdout",
     "output_type": "stream",
     "text": [
      "<class 'pandas.core.frame.DataFrame'>\n",
      "RangeIndex: 891 entries, 0 to 890\n",
      "Data columns (total 12 columns):\n",
      " #   Column       Non-Null Count  Dtype  \n",
      "---  ------       --------------  -----  \n",
      " 0   PassengerId  891 non-null    int64  \n",
      " 1   Survived     891 non-null    int64  \n",
      " 2   Pclass       891 non-null    int64  \n",
      " 3   Name         891 non-null    object \n",
      " 4   Sex          891 non-null    object \n",
      " 5   Age          714 non-null    float64\n",
      " 6   SibSp        891 non-null    int64  \n",
      " 7   Parch        891 non-null    int64  \n",
      " 8   Ticket       891 non-null    object \n",
      " 9   Fare         891 non-null    float64\n",
      " 10  Cabin        204 non-null    object \n",
      " 11  Embarked     889 non-null    object \n",
      "dtypes: float64(2), int64(5), object(5)\n",
      "memory usage: 83.7+ KB\n"
     ]
    }
   ],
   "source": [
    "titanic.info()"
   ]
  },
  {
   "cell_type": "code",
   "execution_count": 4,
   "id": "bdf4a8dd-d5b1-4877-8480-ba0b5011129f",
   "metadata": {},
   "outputs": [
    {
     "name": "stdout",
     "output_type": "stream",
     "text": [
      "<class 'pandas.core.frame.DataFrame'>\n",
      "RangeIndex: 891 entries, 0 to 890\n",
      "Data columns (total 10 columns):\n",
      " #   Column    Non-Null Count  Dtype  \n",
      "---  ------    --------------  -----  \n",
      " 0   Survived  891 non-null    int64  \n",
      " 1   Pclass    891 non-null    int64  \n",
      " 2   Name      891 non-null    object \n",
      " 3   Sex       891 non-null    object \n",
      " 4   Age       714 non-null    float64\n",
      " 5   SibSp     891 non-null    int64  \n",
      " 6   Parch     891 non-null    int64  \n",
      " 7   Fare      891 non-null    float64\n",
      " 8   Cabin     204 non-null    object \n",
      " 9   Embarked  889 non-null    object \n",
      "dtypes: float64(2), int64(4), object(4)\n",
      "memory usage: 69.7+ KB\n"
     ]
    }
   ],
   "source": [
    "# 필요 없는 데이터 (PassengerId, Ticket) 지우기\n",
    "ttn = titanic.drop( [\"PassengerId\", \"Ticket\"] , axis = 1 )\n",
    "ttn.info()"
   ]
  },
  {
   "cell_type": "markdown",
   "id": "ffa81ab3-fab6-4657-ab7d-d15866b90a57",
   "metadata": {
    "jp-MarkdownHeadingCollapsed": true
   },
   "source": [
    "## 2. 데이터 전처리 (결측치 제거/ 인코딩 / 표준화)"
   ]
  },
  {
   "cell_type": "markdown",
   "id": "66d93896-9714-45c9-a4d3-378e17cad0b6",
   "metadata": {
    "jp-MarkdownHeadingCollapsed": true
   },
   "source": [
    "### 2-1 결측치"
   ]
  },
  {
   "cell_type": "code",
   "execution_count": 5,
   "id": "b974c5ef-b1d0-478e-8c64-0b52a831886b",
   "metadata": {},
   "outputs": [
    {
     "name": "stdout",
     "output_type": "stream",
     "text": [
      "<class 'pandas.core.frame.DataFrame'>\n",
      "RangeIndex: 891 entries, 0 to 890\n",
      "Data columns (total 10 columns):\n",
      " #   Column    Non-Null Count  Dtype  \n",
      "---  ------    --------------  -----  \n",
      " 0   Survived  891 non-null    int64  \n",
      " 1   Pclass    891 non-null    int64  \n",
      " 2   Name      891 non-null    object \n",
      " 3   Sex       891 non-null    object \n",
      " 4   Age       891 non-null    float64\n",
      " 5   SibSp     891 non-null    int64  \n",
      " 6   Parch     891 non-null    int64  \n",
      " 7   Fare      891 non-null    float64\n",
      " 8   Cabin     204 non-null    object \n",
      " 9   Embarked  889 non-null    object \n",
      "dtypes: float64(2), int64(4), object(4)\n",
      "memory usage: 69.7+ KB\n"
     ]
    }
   ],
   "source": [
    "# age 결측치 채우기\n",
    "age_mean = ttn['Age'].mean()\n",
    "ttn[\"Age\"] = ttn[\"Age\"].fillna(age_mean)\n",
    "ttn.info()\n"
   ]
  },
  {
   "cell_type": "code",
   "execution_count": 6,
   "id": "71503ae8-33ee-4206-a8f1-216f999647a0",
   "metadata": {},
   "outputs": [
    {
     "name": "stdout",
     "output_type": "stream",
     "text": [
      "<class 'pandas.core.frame.DataFrame'>\n",
      "RangeIndex: 891 entries, 0 to 890\n",
      "Data columns (total 10 columns):\n",
      " #   Column    Non-Null Count  Dtype  \n",
      "---  ------    --------------  -----  \n",
      " 0   Survived  891 non-null    int64  \n",
      " 1   Pclass    891 non-null    int64  \n",
      " 2   Name      891 non-null    object \n",
      " 3   Sex       891 non-null    object \n",
      " 4   Age       891 non-null    float64\n",
      " 5   SibSp     891 non-null    int64  \n",
      " 6   Parch     891 non-null    int64  \n",
      " 7   Fare      891 non-null    float64\n",
      " 8   Cabin     204 non-null    object \n",
      " 9   Embarked  891 non-null    object \n",
      "dtypes: float64(2), int64(4), object(4)\n",
      "memory usage: 69.7+ KB\n"
     ]
    }
   ],
   "source": [
    "# embarked 결측치 채우기\n",
    "emb_mode = ttn[\"Embarked\"].mode()\n",
    "ttn[\"Embarked\"]= ttn[\"Embarked\"].fillna(emb_mode[0])\n",
    "ttn.info()"
   ]
  },
  {
   "cell_type": "code",
   "execution_count": 7,
   "id": "6e27ef7d-179c-49a0-b6c0-9077e81162ab",
   "metadata": {},
   "outputs": [
    {
     "name": "stdout",
     "output_type": "stream",
     "text": [
      "<class 'pandas.core.frame.DataFrame'>\n",
      "RangeIndex: 891 entries, 0 to 890\n",
      "Data columns (total 10 columns):\n",
      " #   Column    Non-Null Count  Dtype  \n",
      "---  ------    --------------  -----  \n",
      " 0   Survived  891 non-null    int64  \n",
      " 1   Pclass    891 non-null    int64  \n",
      " 2   Name      891 non-null    object \n",
      " 3   Sex       891 non-null    object \n",
      " 4   Age       891 non-null    float64\n",
      " 5   SibSp     891 non-null    int64  \n",
      " 6   Parch     891 non-null    int64  \n",
      " 7   Fare      891 non-null    float64\n",
      " 8   Cabin     891 non-null    object \n",
      " 9   Embarked  891 non-null    object \n",
      "dtypes: float64(2), int64(4), object(4)\n",
      "memory usage: 69.7+ KB\n"
     ]
    }
   ],
   "source": [
    "# cabin 결측치는 너무 많으니 z(모름)로 입력\n",
    "ttn[\"Cabin\"]= ttn[\"Cabin\"].fillna(\"Z\")\n",
    "ttn.info()"
   ]
  },
  {
   "cell_type": "markdown",
   "id": "8b382684-2f85-45b2-8eb5-5b7359647d5e",
   "metadata": {
    "jp-MarkdownHeadingCollapsed": true
   },
   "source": [
    "### 2-2 인코딩"
   ]
  },
  {
   "cell_type": "code",
   "execution_count": 8,
   "id": "bff20154-85ac-4cbf-81e0-820721bef9e3",
   "metadata": {},
   "outputs": [
    {
     "data": {
      "text/plain": [
       "Cabin\n",
       "Z    687\n",
       "C     59\n",
       "B     47\n",
       "D     33\n",
       "E     32\n",
       "A     15\n",
       "F     13\n",
       "G      4\n",
       "T      1\n",
       "Name: count, dtype: int64"
      ]
     },
     "execution_count": 8,
     "metadata": {},
     "output_type": "execute_result"
    }
   ],
   "source": [
    "ttn[\"Cabin\"] = ttn[\"Cabin\"].apply(lambda x : x[0])\n",
    "ttn[\"Cabin\"].value_counts()"
   ]
  },
  {
   "cell_type": "code",
   "execution_count": 9,
   "id": "180d3391-e413-4d5a-8186-ff3c1ebadc5b",
   "metadata": {},
   "outputs": [],
   "source": [
    "# name의 직함 꺼내기 name의 직함 꺼내기\n",
    "\n",
    "ttn['title'] = ttn['Name'].str.extract(\"( [A-z]+)\\.\")\n",
    "\n",
    "ttn_cnt = ttn['title'].value_counts()\n",
    "ttn_if = ttn_cnt[ttn_cnt < 10]\n",
    "ttn['title'] = ttn['title'].replace(ttn_if.index , 'other')"
   ]
  },
  {
   "cell_type": "code",
   "execution_count": 10,
   "id": "d06e55a6-63d9-40a1-9de1-59698ab16c29",
   "metadata": {},
   "outputs": [],
   "source": [
    "# title, sex, cavin, embarked 인코딩\n",
    "def encoding(data, col):\n",
    "    enco = LabelEncoder()\n",
    "    enco.fit(data[col])\n",
    "    data[col] = enco.transform(data[col])\n",
    "    return data\n"
   ]
  },
  {
   "cell_type": "code",
   "execution_count": 11,
   "id": "9d4c3361-4425-444c-9e5f-e039bc1b3abd",
   "metadata": {},
   "outputs": [
    {
     "data": {
      "text/plain": [
       "Sex\n",
       "1    577\n",
       "0    314\n",
       "Name: count, dtype: int64"
      ]
     },
     "execution_count": 11,
     "metadata": {},
     "output_type": "execute_result"
    }
   ],
   "source": [
    "encoding(ttn, \"Sex\")\n",
    "ttn[\"Sex\"].value_counts()"
   ]
  },
  {
   "cell_type": "code",
   "execution_count": 12,
   "id": "2a18f8b6-53cc-47f6-8925-22295938895a",
   "metadata": {},
   "outputs": [
    {
     "data": {
      "text/plain": [
       "Cabin\n",
       "8    687\n",
       "2     59\n",
       "1     47\n",
       "3     33\n",
       "4     32\n",
       "0     15\n",
       "5     13\n",
       "6      4\n",
       "7      1\n",
       "Name: count, dtype: int64"
      ]
     },
     "execution_count": 12,
     "metadata": {},
     "output_type": "execute_result"
    }
   ],
   "source": [
    "encoding(ttn, \"Cabin\")\n",
    "ttn[\"Cabin\"].value_counts()"
   ]
  },
  {
   "cell_type": "code",
   "execution_count": 13,
   "id": "6905e517-b99b-4678-8cbe-ac60f035cf65",
   "metadata": {},
   "outputs": [
    {
     "data": {
      "text/plain": [
       "Embarked\n",
       "2    646\n",
       "0    168\n",
       "1     77\n",
       "Name: count, dtype: int64"
      ]
     },
     "execution_count": 13,
     "metadata": {},
     "output_type": "execute_result"
    }
   ],
   "source": [
    "encoding(ttn, \"Embarked\")\n",
    "ttn[\"Embarked\"].value_counts()"
   ]
  },
  {
   "cell_type": "code",
   "execution_count": 14,
   "id": "e1d67ea3-9e6f-453e-9f2b-724b42248573",
   "metadata": {},
   "outputs": [
    {
     "data": {
      "text/plain": [
       "title\n",
       "2    517\n",
       "1    182\n",
       "3    125\n",
       "0     40\n",
       "4     27\n",
       "Name: count, dtype: int64"
      ]
     },
     "execution_count": 14,
     "metadata": {},
     "output_type": "execute_result"
    }
   ],
   "source": [
    "encoding(ttn, \"title\")\n",
    "ttn[\"title\"].value_counts()"
   ]
  },
  {
   "cell_type": "code",
   "execution_count": 15,
   "id": "a2a5272b-540b-4f50-8e3c-6c8a0d3d0199",
   "metadata": {},
   "outputs": [
    {
     "name": "stdout",
     "output_type": "stream",
     "text": [
      "<class 'pandas.core.frame.DataFrame'>\n",
      "RangeIndex: 891 entries, 0 to 890\n",
      "Data columns (total 10 columns):\n",
      " #   Column    Non-Null Count  Dtype  \n",
      "---  ------    --------------  -----  \n",
      " 0   Survived  891 non-null    int64  \n",
      " 1   Pclass    891 non-null    int64  \n",
      " 2   Sex       891 non-null    int32  \n",
      " 3   Age       891 non-null    float64\n",
      " 4   SibSp     891 non-null    int64  \n",
      " 5   Parch     891 non-null    int64  \n",
      " 6   Fare      891 non-null    float64\n",
      " 7   Cabin     891 non-null    int32  \n",
      " 8   Embarked  891 non-null    int32  \n",
      " 9   title     891 non-null    int32  \n",
      "dtypes: float64(2), int32(4), int64(4)\n",
      "memory usage: 55.8 KB\n"
     ]
    }
   ],
   "source": [
    "# Name지우기\n",
    "ttn = ttn.drop( [\"Name\"] , axis = 1 )\n",
    "ttn.info()"
   ]
  },
  {
   "cell_type": "code",
   "execution_count": 16,
   "id": "bac6d716-5d25-4bec-996a-51e24761908f",
   "metadata": {},
   "outputs": [],
   "source": [
    "ttn['family'] = ttn['SibSp'] + ttn['Parch']\n",
    "\n",
    "ttn.loc[ ttn['family'] >=6 ,'family'] = 6 "
   ]
  },
  {
   "cell_type": "code",
   "execution_count": 17,
   "id": "627ab383-eb82-413f-b3d2-d79e01a0641f",
   "metadata": {},
   "outputs": [
    {
     "data": {
      "text/plain": [
       "AgeGroup\n",
       "2    407\n",
       "3    155\n",
       "1    115\n",
       "4     86\n",
       "0     64\n",
       "5     42\n",
       "6     17\n",
       "7      5\n",
       "Name: count, dtype: int64"
      ]
     },
     "execution_count": 17,
     "metadata": {},
     "output_type": "execute_result"
    }
   ],
   "source": [
    "bin_Age = [0,10,20,30,40,50,60,70,80]\n",
    "ttn[\"AgeGroup\"] = pd.cut(ttn[\"Age\"], bins=bin_Age)\n",
    "\n",
    "encoding(ttn, \"AgeGroup\")\n",
    "ttn[\"AgeGroup\"].value_counts()"
   ]
  },
  {
   "cell_type": "code",
   "execution_count": 18,
   "id": "d54210fc-3569-4031-9cfb-57db9a4715be",
   "metadata": {},
   "outputs": [
    {
     "data": {
      "text/plain": [
       "FareGroup\n",
       "0    321\n",
       "1    179\n",
       "4    176\n",
       "2    142\n",
       "3     58\n",
       "5     15\n",
       "Name: count, dtype: int64"
      ]
     },
     "execution_count": 18,
     "metadata": {},
     "output_type": "execute_result"
    }
   ],
   "source": [
    "bin_Fare = [0,10,20,30,40,600]\n",
    "ttn[\"FareGroup\"] = pd.cut(ttn[\"Fare\"], bins=bin_Fare)\n",
    "\n",
    "encoding(ttn, \"FareGroup\")\n",
    "ttn[\"FareGroup\"].value_counts()"
   ]
  },
  {
   "cell_type": "code",
   "execution_count": 19,
   "id": "0164b500-4a4a-4037-8038-018652335164",
   "metadata": {},
   "outputs": [
    {
     "name": "stdout",
     "output_type": "stream",
     "text": [
      "<class 'pandas.core.frame.DataFrame'>\n",
      "RangeIndex: 891 entries, 0 to 890\n",
      "Data columns (total 9 columns):\n",
      " #   Column     Non-Null Count  Dtype\n",
      "---  ------     --------------  -----\n",
      " 0   Survived   891 non-null    int64\n",
      " 1   Pclass     891 non-null    int64\n",
      " 2   Sex        891 non-null    int32\n",
      " 3   Cabin      891 non-null    int32\n",
      " 4   Embarked   891 non-null    int32\n",
      " 5   title      891 non-null    int32\n",
      " 6   family     891 non-null    int64\n",
      " 7   AgeGroup   891 non-null    int32\n",
      " 8   FareGroup  891 non-null    int32\n",
      "dtypes: int32(6), int64(3)\n",
      "memory usage: 41.9 KB\n"
     ]
    }
   ],
   "source": [
    "# age, fare, sibsp, farch 지우기\n",
    "ttn = ttn.drop( [\"Age\", \"Fare\", \"SibSp\", \"Parch\"] , axis = 1 )\n",
    "ttn.info()"
   ]
  },
  {
   "cell_type": "markdown",
   "id": "dd2fa392-248b-4a84-9a24-ce555f48fba7",
   "metadata": {
    "jp-MarkdownHeadingCollapsed": true
   },
   "source": [
    "### 2-3 데이터 나누기 (train, test)"
   ]
  },
  {
   "cell_type": "code",
   "execution_count": 20,
   "id": "dc3c2496-99b4-4151-add7-474d2d2e944c",
   "metadata": {},
   "outputs": [],
   "source": [
    "x = ttn.loc[ : , \"Pclass\" :]\n",
    "y = ttn[\"Survived\"]"
   ]
  },
  {
   "cell_type": "code",
   "execution_count": 21,
   "id": "6c7bd42e-8829-4d77-9a51-0d11cd0dc790",
   "metadata": {},
   "outputs": [],
   "source": [
    "x_train, x_test, y_train, y_test = train_test_split(x , y, test_size=0.3, random_state=10)"
   ]
  },
  {
   "cell_type": "code",
   "execution_count": 22,
   "id": "4b6ef0a7-03f5-44b2-8400-a3096a74bc01",
   "metadata": {},
   "outputs": [
    {
     "name": "stdout",
     "output_type": "stream",
     "text": [
      "<class 'pandas.core.frame.DataFrame'>\n",
      "Index: 623 entries, 7 to 265\n",
      "Data columns (total 8 columns):\n",
      " #   Column     Non-Null Count  Dtype\n",
      "---  ------     --------------  -----\n",
      " 0   Pclass     623 non-null    int64\n",
      " 1   Sex        623 non-null    int32\n",
      " 2   Cabin      623 non-null    int32\n",
      " 3   Embarked   623 non-null    int32\n",
      " 4   title      623 non-null    int32\n",
      " 5   family     623 non-null    int64\n",
      " 6   AgeGroup   623 non-null    int32\n",
      " 7   FareGroup  623 non-null    int32\n",
      "dtypes: int32(6), int64(2)\n",
      "memory usage: 29.2 KB\n"
     ]
    }
   ],
   "source": [
    "x_train.info()"
   ]
  },
  {
   "cell_type": "code",
   "execution_count": 23,
   "id": "7da73fc5-3aba-4f04-b5ed-9a459b6b61a2",
   "metadata": {},
   "outputs": [
    {
     "data": {
      "text/plain": [
       "Survived\n",
       "0    549\n",
       "1    342\n",
       "Name: count, dtype: int64"
      ]
     },
     "execution_count": 23,
     "metadata": {},
     "output_type": "execute_result"
    }
   ],
   "source": [
    "y.value_counts()"
   ]
  },
  {
   "cell_type": "markdown",
   "id": "1550462e-4f08-48ae-a4fc-11accf757b4b",
   "metadata": {
    "jp-MarkdownHeadingCollapsed": true
   },
   "source": [
    "## 3. 모델링\n",
    "1. 모델 생성\n",
    "2. 모델 학습\n",
    "3. 모델 평가"
   ]
  },
  {
   "cell_type": "code",
   "execution_count": 24,
   "id": "1a73dc4d-70eb-499f-9979-1b2e2db3034e",
   "metadata": {},
   "outputs": [],
   "source": [
    "# 학습된 모델 점수 확인을 위한 함수\n",
    "\n",
    "def model_score(model):\n",
    "    pre_test = model.predict(x_test)\n",
    "    pre_train = model.predict(x_train)\n",
    "    score_test = metrics.f1_score(pre_test, y_test)\n",
    "    score_train = metrics.f1_score(pre_train, y_train)\n",
    "    print(\"test : \", score_test)\n",
    "    print(\"train : \", score_train)\n",
    "    print(\"test 평가지표\")\n",
    "    print(metrics.classification_report(pre_test, y_test))\n",
    "    print(\"train 평가지표\")\n",
    "    print(metrics.classification_report(pre_train, y_train))\n",
    "    # print(metrics.f1_score(pre_test, y_test))"
   ]
  },
  {
   "cell_type": "markdown",
   "id": "f996be67-c4d6-4189-a8e1-605d167d9e6b",
   "metadata": {
    "jp-MarkdownHeadingCollapsed": true
   },
   "source": [
    "### 3-1 knn"
   ]
  },
  {
   "cell_type": "code",
   "execution_count": 25,
   "id": "e19c2542-60aa-42ee-9116-7de1be91a2ba",
   "metadata": {},
   "outputs": [
    {
     "data": {
      "text/html": [
       "<style>#sk-container-id-1 {color: black;background-color: white;}#sk-container-id-1 pre{padding: 0;}#sk-container-id-1 div.sk-toggleable {background-color: white;}#sk-container-id-1 label.sk-toggleable__label {cursor: pointer;display: block;width: 100%;margin-bottom: 0;padding: 0.3em;box-sizing: border-box;text-align: center;}#sk-container-id-1 label.sk-toggleable__label-arrow:before {content: \"▸\";float: left;margin-right: 0.25em;color: #696969;}#sk-container-id-1 label.sk-toggleable__label-arrow:hover:before {color: black;}#sk-container-id-1 div.sk-estimator:hover label.sk-toggleable__label-arrow:before {color: black;}#sk-container-id-1 div.sk-toggleable__content {max-height: 0;max-width: 0;overflow: hidden;text-align: left;background-color: #f0f8ff;}#sk-container-id-1 div.sk-toggleable__content pre {margin: 0.2em;color: black;border-radius: 0.25em;background-color: #f0f8ff;}#sk-container-id-1 input.sk-toggleable__control:checked~div.sk-toggleable__content {max-height: 200px;max-width: 100%;overflow: auto;}#sk-container-id-1 input.sk-toggleable__control:checked~label.sk-toggleable__label-arrow:before {content: \"▾\";}#sk-container-id-1 div.sk-estimator input.sk-toggleable__control:checked~label.sk-toggleable__label {background-color: #d4ebff;}#sk-container-id-1 div.sk-label input.sk-toggleable__control:checked~label.sk-toggleable__label {background-color: #d4ebff;}#sk-container-id-1 input.sk-hidden--visually {border: 0;clip: rect(1px 1px 1px 1px);clip: rect(1px, 1px, 1px, 1px);height: 1px;margin: -1px;overflow: hidden;padding: 0;position: absolute;width: 1px;}#sk-container-id-1 div.sk-estimator {font-family: monospace;background-color: #f0f8ff;border: 1px dotted black;border-radius: 0.25em;box-sizing: border-box;margin-bottom: 0.5em;}#sk-container-id-1 div.sk-estimator:hover {background-color: #d4ebff;}#sk-container-id-1 div.sk-parallel-item::after {content: \"\";width: 100%;border-bottom: 1px solid gray;flex-grow: 1;}#sk-container-id-1 div.sk-label:hover label.sk-toggleable__label {background-color: #d4ebff;}#sk-container-id-1 div.sk-serial::before {content: \"\";position: absolute;border-left: 1px solid gray;box-sizing: border-box;top: 0;bottom: 0;left: 50%;z-index: 0;}#sk-container-id-1 div.sk-serial {display: flex;flex-direction: column;align-items: center;background-color: white;padding-right: 0.2em;padding-left: 0.2em;position: relative;}#sk-container-id-1 div.sk-item {position: relative;z-index: 1;}#sk-container-id-1 div.sk-parallel {display: flex;align-items: stretch;justify-content: center;background-color: white;position: relative;}#sk-container-id-1 div.sk-item::before, #sk-container-id-1 div.sk-parallel-item::before {content: \"\";position: absolute;border-left: 1px solid gray;box-sizing: border-box;top: 0;bottom: 0;left: 50%;z-index: -1;}#sk-container-id-1 div.sk-parallel-item {display: flex;flex-direction: column;z-index: 1;position: relative;background-color: white;}#sk-container-id-1 div.sk-parallel-item:first-child::after {align-self: flex-end;width: 50%;}#sk-container-id-1 div.sk-parallel-item:last-child::after {align-self: flex-start;width: 50%;}#sk-container-id-1 div.sk-parallel-item:only-child::after {width: 0;}#sk-container-id-1 div.sk-dashed-wrapped {border: 1px dashed gray;margin: 0 0.4em 0.5em 0.4em;box-sizing: border-box;padding-bottom: 0.4em;background-color: white;}#sk-container-id-1 div.sk-label label {font-family: monospace;font-weight: bold;display: inline-block;line-height: 1.2em;}#sk-container-id-1 div.sk-label-container {text-align: center;}#sk-container-id-1 div.sk-container {/* jupyter's `normalize.less` sets `[hidden] { display: none; }` but bootstrap.min.css set `[hidden] { display: none !important; }` so we also need the `!important` here to be able to override the default hidden behavior on the sphinx rendered scikit-learn.org. See: https://github.com/scikit-learn/scikit-learn/issues/21755 */display: inline-block !important;position: relative;}#sk-container-id-1 div.sk-text-repr-fallback {display: none;}</style><div id=\"sk-container-id-1\" class=\"sk-top-container\"><div class=\"sk-text-repr-fallback\"><pre>GridSearchCV(cv=5, estimator=KNeighborsClassifier(),\n",
       "             param_grid={&#x27;n_neighbors&#x27;: range(1, 50)})</pre><b>In a Jupyter environment, please rerun this cell to show the HTML representation or trust the notebook. <br />On GitHub, the HTML representation is unable to render, please try loading this page with nbviewer.org.</b></div><div class=\"sk-container\" hidden><div class=\"sk-item sk-dashed-wrapped\"><div class=\"sk-label-container\"><div class=\"sk-label sk-toggleable\"><input class=\"sk-toggleable__control sk-hidden--visually\" id=\"sk-estimator-id-1\" type=\"checkbox\" ><label for=\"sk-estimator-id-1\" class=\"sk-toggleable__label sk-toggleable__label-arrow\">GridSearchCV</label><div class=\"sk-toggleable__content\"><pre>GridSearchCV(cv=5, estimator=KNeighborsClassifier(),\n",
       "             param_grid={&#x27;n_neighbors&#x27;: range(1, 50)})</pre></div></div></div><div class=\"sk-parallel\"><div class=\"sk-parallel-item\"><div class=\"sk-item\"><div class=\"sk-label-container\"><div class=\"sk-label sk-toggleable\"><input class=\"sk-toggleable__control sk-hidden--visually\" id=\"sk-estimator-id-2\" type=\"checkbox\" ><label for=\"sk-estimator-id-2\" class=\"sk-toggleable__label sk-toggleable__label-arrow\">estimator: KNeighborsClassifier</label><div class=\"sk-toggleable__content\"><pre>KNeighborsClassifier()</pre></div></div></div><div class=\"sk-serial\"><div class=\"sk-item\"><div class=\"sk-estimator sk-toggleable\"><input class=\"sk-toggleable__control sk-hidden--visually\" id=\"sk-estimator-id-3\" type=\"checkbox\" ><label for=\"sk-estimator-id-3\" class=\"sk-toggleable__label sk-toggleable__label-arrow\">KNeighborsClassifier</label><div class=\"sk-toggleable__content\"><pre>KNeighborsClassifier()</pre></div></div></div></div></div></div></div></div></div></div>"
      ],
      "text/plain": [
       "GridSearchCV(cv=5, estimator=KNeighborsClassifier(),\n",
       "             param_grid={'n_neighbors': range(1, 50)})"
      ]
     },
     "execution_count": 25,
     "metadata": {},
     "output_type": "execute_result"
    }
   ],
   "source": [
    "knn_model = KNeighborsClassifier()\n",
    "knn_param = { \"n_neighbors\" : range(1,50)}\n",
    "knn_grid = GridSearchCV(knn_model, param_grid=knn_param,cv = 5 )\n",
    "knn_grid.fit(x_train, y_train)"
   ]
  },
  {
   "cell_type": "code",
   "execution_count": 26,
   "id": "4b258517-e455-4592-b3fd-90f84f496a74",
   "metadata": {},
   "outputs": [
    {
     "name": "stdout",
     "output_type": "stream",
     "text": [
      "{'n_neighbors': 3}\n",
      "test :  0.6984126984126984\n",
      "train :  0.7932489451476793\n",
      "test 평가지표\n",
      "              precision    recall  f1-score   support\n",
      "\n",
      "           0       0.83      0.84      0.84       173\n",
      "           1       0.70      0.69      0.70        95\n",
      "\n",
      "    accuracy                           0.79       268\n",
      "   macro avg       0.77      0.77      0.77       268\n",
      "weighted avg       0.79      0.79      0.79       268\n",
      "\n",
      "train 평가지표\n",
      "              precision    recall  f1-score   support\n",
      "\n",
      "           0       0.90      0.85      0.87       397\n",
      "           1       0.76      0.83      0.79       226\n",
      "\n",
      "    accuracy                           0.84       623\n",
      "   macro avg       0.83      0.84      0.83       623\n",
      "weighted avg       0.85      0.84      0.84       623\n",
      "\n"
     ]
    }
   ],
   "source": [
    "knn_best = knn_grid.best_estimator_\n",
    "print(knn_grid.best_params_)\n",
    "model_score(knn_best)"
   ]
  },
  {
   "cell_type": "markdown",
   "id": "4c4a8f01-1399-4538-83ce-e681e0a72981",
   "metadata": {
    "jp-MarkdownHeadingCollapsed": true
   },
   "source": [
    "### 3-2 Decsion Tree"
   ]
  },
  {
   "cell_type": "code",
   "execution_count": 27,
   "id": "c17d0392-10dc-490d-b162-a74859ebde2f",
   "metadata": {},
   "outputs": [
    {
     "data": {
      "text/html": [
       "<style>#sk-container-id-2 {color: black;background-color: white;}#sk-container-id-2 pre{padding: 0;}#sk-container-id-2 div.sk-toggleable {background-color: white;}#sk-container-id-2 label.sk-toggleable__label {cursor: pointer;display: block;width: 100%;margin-bottom: 0;padding: 0.3em;box-sizing: border-box;text-align: center;}#sk-container-id-2 label.sk-toggleable__label-arrow:before {content: \"▸\";float: left;margin-right: 0.25em;color: #696969;}#sk-container-id-2 label.sk-toggleable__label-arrow:hover:before {color: black;}#sk-container-id-2 div.sk-estimator:hover label.sk-toggleable__label-arrow:before {color: black;}#sk-container-id-2 div.sk-toggleable__content {max-height: 0;max-width: 0;overflow: hidden;text-align: left;background-color: #f0f8ff;}#sk-container-id-2 div.sk-toggleable__content pre {margin: 0.2em;color: black;border-radius: 0.25em;background-color: #f0f8ff;}#sk-container-id-2 input.sk-toggleable__control:checked~div.sk-toggleable__content {max-height: 200px;max-width: 100%;overflow: auto;}#sk-container-id-2 input.sk-toggleable__control:checked~label.sk-toggleable__label-arrow:before {content: \"▾\";}#sk-container-id-2 div.sk-estimator input.sk-toggleable__control:checked~label.sk-toggleable__label {background-color: #d4ebff;}#sk-container-id-2 div.sk-label input.sk-toggleable__control:checked~label.sk-toggleable__label {background-color: #d4ebff;}#sk-container-id-2 input.sk-hidden--visually {border: 0;clip: rect(1px 1px 1px 1px);clip: rect(1px, 1px, 1px, 1px);height: 1px;margin: -1px;overflow: hidden;padding: 0;position: absolute;width: 1px;}#sk-container-id-2 div.sk-estimator {font-family: monospace;background-color: #f0f8ff;border: 1px dotted black;border-radius: 0.25em;box-sizing: border-box;margin-bottom: 0.5em;}#sk-container-id-2 div.sk-estimator:hover {background-color: #d4ebff;}#sk-container-id-2 div.sk-parallel-item::after {content: \"\";width: 100%;border-bottom: 1px solid gray;flex-grow: 1;}#sk-container-id-2 div.sk-label:hover label.sk-toggleable__label {background-color: #d4ebff;}#sk-container-id-2 div.sk-serial::before {content: \"\";position: absolute;border-left: 1px solid gray;box-sizing: border-box;top: 0;bottom: 0;left: 50%;z-index: 0;}#sk-container-id-2 div.sk-serial {display: flex;flex-direction: column;align-items: center;background-color: white;padding-right: 0.2em;padding-left: 0.2em;position: relative;}#sk-container-id-2 div.sk-item {position: relative;z-index: 1;}#sk-container-id-2 div.sk-parallel {display: flex;align-items: stretch;justify-content: center;background-color: white;position: relative;}#sk-container-id-2 div.sk-item::before, #sk-container-id-2 div.sk-parallel-item::before {content: \"\";position: absolute;border-left: 1px solid gray;box-sizing: border-box;top: 0;bottom: 0;left: 50%;z-index: -1;}#sk-container-id-2 div.sk-parallel-item {display: flex;flex-direction: column;z-index: 1;position: relative;background-color: white;}#sk-container-id-2 div.sk-parallel-item:first-child::after {align-self: flex-end;width: 50%;}#sk-container-id-2 div.sk-parallel-item:last-child::after {align-self: flex-start;width: 50%;}#sk-container-id-2 div.sk-parallel-item:only-child::after {width: 0;}#sk-container-id-2 div.sk-dashed-wrapped {border: 1px dashed gray;margin: 0 0.4em 0.5em 0.4em;box-sizing: border-box;padding-bottom: 0.4em;background-color: white;}#sk-container-id-2 div.sk-label label {font-family: monospace;font-weight: bold;display: inline-block;line-height: 1.2em;}#sk-container-id-2 div.sk-label-container {text-align: center;}#sk-container-id-2 div.sk-container {/* jupyter's `normalize.less` sets `[hidden] { display: none; }` but bootstrap.min.css set `[hidden] { display: none !important; }` so we also need the `!important` here to be able to override the default hidden behavior on the sphinx rendered scikit-learn.org. See: https://github.com/scikit-learn/scikit-learn/issues/21755 */display: inline-block !important;position: relative;}#sk-container-id-2 div.sk-text-repr-fallback {display: none;}</style><div id=\"sk-container-id-2\" class=\"sk-top-container\"><div class=\"sk-text-repr-fallback\"><pre>GridSearchCV(cv=5, estimator=DecisionTreeClassifier(random_state=10),\n",
       "             param_grid={&#x27;max_depth&#x27;: range(3, 10),\n",
       "                         &#x27;min_samples_leaf&#x27;: range(5, 51, 5),\n",
       "                         &#x27;min_samples_split&#x27;: range(10, 101, 10)})</pre><b>In a Jupyter environment, please rerun this cell to show the HTML representation or trust the notebook. <br />On GitHub, the HTML representation is unable to render, please try loading this page with nbviewer.org.</b></div><div class=\"sk-container\" hidden><div class=\"sk-item sk-dashed-wrapped\"><div class=\"sk-label-container\"><div class=\"sk-label sk-toggleable\"><input class=\"sk-toggleable__control sk-hidden--visually\" id=\"sk-estimator-id-4\" type=\"checkbox\" ><label for=\"sk-estimator-id-4\" class=\"sk-toggleable__label sk-toggleable__label-arrow\">GridSearchCV</label><div class=\"sk-toggleable__content\"><pre>GridSearchCV(cv=5, estimator=DecisionTreeClassifier(random_state=10),\n",
       "             param_grid={&#x27;max_depth&#x27;: range(3, 10),\n",
       "                         &#x27;min_samples_leaf&#x27;: range(5, 51, 5),\n",
       "                         &#x27;min_samples_split&#x27;: range(10, 101, 10)})</pre></div></div></div><div class=\"sk-parallel\"><div class=\"sk-parallel-item\"><div class=\"sk-item\"><div class=\"sk-label-container\"><div class=\"sk-label sk-toggleable\"><input class=\"sk-toggleable__control sk-hidden--visually\" id=\"sk-estimator-id-5\" type=\"checkbox\" ><label for=\"sk-estimator-id-5\" class=\"sk-toggleable__label sk-toggleable__label-arrow\">estimator: DecisionTreeClassifier</label><div class=\"sk-toggleable__content\"><pre>DecisionTreeClassifier(random_state=10)</pre></div></div></div><div class=\"sk-serial\"><div class=\"sk-item\"><div class=\"sk-estimator sk-toggleable\"><input class=\"sk-toggleable__control sk-hidden--visually\" id=\"sk-estimator-id-6\" type=\"checkbox\" ><label for=\"sk-estimator-id-6\" class=\"sk-toggleable__label sk-toggleable__label-arrow\">DecisionTreeClassifier</label><div class=\"sk-toggleable__content\"><pre>DecisionTreeClassifier(random_state=10)</pre></div></div></div></div></div></div></div></div></div></div>"
      ],
      "text/plain": [
       "GridSearchCV(cv=5, estimator=DecisionTreeClassifier(random_state=10),\n",
       "             param_grid={'max_depth': range(3, 10),\n",
       "                         'min_samples_leaf': range(5, 51, 5),\n",
       "                         'min_samples_split': range(10, 101, 10)})"
      ]
     },
     "execution_count": 27,
     "metadata": {},
     "output_type": "execute_result"
    }
   ],
   "source": [
    "dt_model = DecisionTreeClassifier(random_state=10)\n",
    "dt_params = {\"max_depth\" : range(3,10,1), \"min_samples_split\" : range(10,101,10), \"min_samples_leaf\" : range(5,51,5)}\n",
    "dt_grid = GridSearchCV(dt_model, param_grid=dt_params, cv = 5)\n",
    "dt_grid.fit(x_train, y_train)"
   ]
  },
  {
   "cell_type": "code",
   "execution_count": 28,
   "id": "f5a78d13-1b37-4f42-8f0b-0c965e9714af",
   "metadata": {},
   "outputs": [
    {
     "name": "stdout",
     "output_type": "stream",
     "text": [
      "{'max_depth': 4, 'min_samples_leaf': 5, 'min_samples_split': 10}\n",
      "test :  0.761904761904762\n",
      "train :  0.7866108786610879\n",
      "test 평가지표\n",
      "              precision    recall  f1-score   support\n",
      "\n",
      "           0       0.87      0.87      0.87       173\n",
      "           1       0.77      0.76      0.76        95\n",
      "\n",
      "    accuracy                           0.83       268\n",
      "   macro avg       0.82      0.82      0.82       268\n",
      "weighted avg       0.83      0.83      0.83       268\n",
      "\n",
      "train 평가지표\n",
      "              precision    recall  f1-score   support\n",
      "\n",
      "           0       0.89      0.85      0.87       393\n",
      "           1       0.76      0.82      0.79       230\n",
      "\n",
      "    accuracy                           0.84       623\n",
      "   macro avg       0.82      0.83      0.83       623\n",
      "weighted avg       0.84      0.84      0.84       623\n",
      "\n"
     ]
    }
   ],
   "source": [
    "dt_best = dt_grid.best_estimator_\n",
    "print(dt_grid.best_params_)\n",
    "model_score(dt_best)"
   ]
  },
  {
   "cell_type": "markdown",
   "id": "206433ad-8dc1-406d-974a-6767e9c61e18",
   "metadata": {
    "jp-MarkdownHeadingCollapsed": true
   },
   "source": [
    "### 3-3 voting"
   ]
  },
  {
   "cell_type": "code",
   "execution_count": 29,
   "id": "0e348aaa-f1f6-4458-acf2-96619e55d436",
   "metadata": {},
   "outputs": [
    {
     "name": "stdout",
     "output_type": "stream",
     "text": [
      "test :  0.7513227513227513\n",
      "train :  0.8118393234672305\n",
      "test 평가지표\n",
      "              precision    recall  f1-score   support\n",
      "\n",
      "           0       0.86      0.87      0.86       173\n",
      "           1       0.76      0.75      0.75        95\n",
      "\n",
      "    accuracy                           0.82       268\n",
      "   macro avg       0.81      0.81      0.81       268\n",
      "weighted avg       0.82      0.82      0.82       268\n",
      "\n",
      "train 평가지표\n",
      "              precision    recall  f1-score   support\n",
      "\n",
      "           0       0.91      0.86      0.88       398\n",
      "           1       0.77      0.85      0.81       225\n",
      "\n",
      "    accuracy                           0.86       623\n",
      "   macro avg       0.84      0.86      0.85       623\n",
      "weighted avg       0.86      0.86      0.86       623\n",
      "\n"
     ]
    }
   ],
   "source": [
    "vt_model = VotingClassifier(estimators=[ (\"KNN\", knn_best), (\"DT\", dt_best) ], voting=\"soft\")\n",
    "vt_model.fit(x_train, y_train)\n",
    "model_score(vt_model)"
   ]
  },
  {
   "cell_type": "markdown",
   "id": "cb3726f9-8ed4-4a6c-9faf-1b965c1d055c",
   "metadata": {
    "jp-MarkdownHeadingCollapsed": true
   },
   "source": [
    "### 3-4 Random Forest"
   ]
  },
  {
   "cell_type": "code",
   "execution_count": 30,
   "id": "1a81cd2c-2f4c-4c54-a883-f786a7162c23",
   "metadata": {},
   "outputs": [],
   "source": [
    "rf_search = {\"max_depth\" : hp.quniform(\"max_depth\", 3,10,1),\n",
    "             \"min_samples_split\" : hp.quniform(\"min_samples_split\", 10,100,1),\n",
    "             \"min_samples_leaf\" : hp.quniform(\"min_samples_leaf\", 5,50,1),\n",
    "             \"n_estimators\" : hp.quniform(\"n_estimators\",100,500,1)\n",
    "            }\n",
    "\n",
    "def rf_obj(ss):\n",
    "    rf_model = RandomForestClassifier(max_depth = int(ss[\"max_depth\"]),\n",
    "                                     min_samples_split = int(ss[\"min_samples_split\"]),\n",
    "                                      min_samples_leaf = int(ss[\"min_samples_leaf\"]),\n",
    "                                     n_estimators = int(ss[\"n_estimators\"]),\n",
    "                                     random_state = 10\n",
    "                                     )\n",
    "    score = cross_val_score(rf_model, x_train, y_train, scoring=\"f1\", cv = 5)\n",
    "    return {\"loss\" : -1 * np.mean(score), \"status\" : STATUS_OK}"
   ]
  },
  {
   "cell_type": "code",
   "execution_count": 31,
   "id": "0fa46d5e-0458-4a90-b695-c75c4daed05a",
   "metadata": {},
   "outputs": [
    {
     "name": "stderr",
     "output_type": "stream",
     "text": [
      "TPE is being used as the default algorithm.\n"
     ]
    },
    {
     "name": "stdout",
     "output_type": "stream",
     "text": [
      "100%|██████████| 500/500 [14:12<00:00,  1.71s/trial, best loss: -0.7629984501859236]\n",
      "{'max_depth': 6.0, 'min_samples_leaf': 6.0, 'min_samples_split': 12.0, 'n_estimators': 100.0}\n"
     ]
    }
   ],
   "source": [
    "import warnings\n",
    "warnings.filterwarnings(\"ignore\")\n",
    "\n",
    "trial = Trials()\n",
    "\n",
    "rf_hp = fmin(fn = rf_obj, space = rf_search, max_evals= 500, trials=trial, rstate=np.random.default_rng(seed = 10), verbose = 5)\n",
    "print(rf_hp)"
   ]
  },
  {
   "cell_type": "code",
   "execution_count": 32,
   "id": "fe9141b7-4b3b-4944-96b9-c14ee6fdf0f7",
   "metadata": {},
   "outputs": [
    {
     "name": "stdout",
     "output_type": "stream",
     "text": [
      "test :  0.7634408602150538\n",
      "train :  0.7939914163090128\n",
      "test 평가지표\n",
      "              precision    recall  f1-score   support\n",
      "\n",
      "           0       0.88      0.87      0.87       176\n",
      "           1       0.76      0.77      0.76        92\n",
      "\n",
      "    accuracy                           0.84       268\n",
      "   macro avg       0.82      0.82      0.82       268\n",
      "weighted avg       0.84      0.84      0.84       268\n",
      "\n",
      "train 평가지표\n",
      "              precision    recall  f1-score   support\n",
      "\n",
      "           0       0.91      0.84      0.88       405\n",
      "           1       0.75      0.85      0.79       218\n",
      "\n",
      "    accuracy                           0.85       623\n",
      "   macro avg       0.83      0.85      0.84       623\n",
      "weighted avg       0.85      0.85      0.85       623\n",
      "\n"
     ]
    }
   ],
   "source": [
    "rf_best = RandomForestClassifier(max_depth=6, min_samples_leaf = 6, min_samples_split=12, n_estimators = 100, random_state=10)\n",
    "rf_best.fit(x_train, y_train)\n",
    "model_score(rf_best)\n"
   ]
  },
  {
   "cell_type": "markdown",
   "id": "cc8db590-1fca-4c7c-8607-c91193e1a275",
   "metadata": {
    "jp-MarkdownHeadingCollapsed": true
   },
   "source": [
    "### 3-5 XGB"
   ]
  },
  {
   "cell_type": "code",
   "execution_count": 33,
   "id": "d3f40e92-338c-4618-b3b2-79954e31dde2",
   "metadata": {},
   "outputs": [],
   "source": [
    "setattr(pd, \"Int64Index\", pd.Index)"
   ]
  },
  {
   "cell_type": "code",
   "execution_count": 34,
   "id": "d5cc6579-30c5-482f-bc02-fd441a0f6820",
   "metadata": {},
   "outputs": [],
   "source": [
    "xgb_search = {\"max_depth\" : hp.quniform(\"max_depth\", 3,10,1),\n",
    "             \"learning_rate\" : hp.uniform(\"learning_rate\", 0.01, 0.2),\n",
    "              \"min_child_weight\" : hp.quniform(\"min_child_weight\", 5,50,1),\n",
    "              \"n_estimators\" : hp.quniform(\"n_estimators\",100,500,1)\n",
    "            }\n",
    "\n",
    "def xgb_obj(ss):\n",
    "    xgb_model = XGBClassifier(max_depth = int(ss[\"max_depth\"]),\n",
    "                              n_estimators = int(ss[\"n_estimators\"]),\n",
    "                               min_child_weight = int(ss[\"min_child_weight\"]),\n",
    "                              learning_rate = ss[\"learning_rate\"],\n",
    "                              subsample = 0.6,\n",
    "                              eval_metric = \"logloss\")\n",
    "    \n",
    "    score = cross_val_score(xgb_model, x_train, y_train, scoring=\"f1\", cv = 5)\n",
    "    return {\"loss\" : -1 * np.mean(score), \"status\" : STATUS_OK}"
   ]
  },
  {
   "cell_type": "code",
   "execution_count": 35,
   "id": "ce0af413-dcf1-4916-908e-da05e9c168d4",
   "metadata": {},
   "outputs": [
    {
     "name": "stderr",
     "output_type": "stream",
     "text": [
      "TPE is being used as the default algorithm.\n"
     ]
    },
    {
     "name": "stdout",
     "output_type": "stream",
     "text": [
      "100%|██████████| 500/500 [03:28<00:00,  2.39trial/s, best loss: -0.7599728383831529]\n",
      "{'learning_rate': 0.1077297488550448, 'max_depth': 9.0, 'min_child_weight': 5.0, 'n_estimators': 384.0}\n"
     ]
    }
   ],
   "source": [
    "\n",
    "trial = Trials()\n",
    "\n",
    "xgb_hp = fmin(fn = xgb_obj, space=xgb_search, max_evals=500, trials=trial, rstate=np.random.default_rng(seed = 5), verbose = 5)\n",
    "print(xgb_hp)"
   ]
  },
  {
   "cell_type": "code",
   "execution_count": 36,
   "id": "8e8934a7-ebc9-48e2-94ed-96f1e5ab7435",
   "metadata": {},
   "outputs": [],
   "source": [
    "x_tr, x_val, y_tr, y_val = train_test_split(x_train, y_train, test_size=0.1, random_state=5)\n",
    "evals = [ (x_tr, y_tr), (x_val, y_val) ]"
   ]
  },
  {
   "cell_type": "code",
   "execution_count": 39,
   "id": "ecb75925-24ca-4ee1-9f13-fd2e9250eb11",
   "metadata": {
    "scrolled": true
   },
   "outputs": [
    {
     "name": "stdout",
     "output_type": "stream",
     "text": [
      "test :  0.7624309392265194\n",
      "train :  0.8060344827586207\n",
      "test 평가지표\n",
      "              precision    recall  f1-score   support\n",
      "\n",
      "           0       0.90      0.86      0.88       181\n",
      "           1       0.73      0.79      0.76        87\n",
      "\n",
      "    accuracy                           0.84       268\n",
      "   macro avg       0.82      0.83      0.82       268\n",
      "weighted avg       0.84      0.84      0.84       268\n",
      "\n",
      "train 평가지표\n",
      "              precision    recall  f1-score   support\n",
      "\n",
      "           0       0.92      0.85      0.88       407\n",
      "           1       0.75      0.87      0.81       216\n",
      "\n",
      "    accuracy                           0.86       623\n",
      "   macro avg       0.84      0.86      0.85       623\n",
      "weighted avg       0.86      0.86      0.86       623\n",
      "\n"
     ]
    }
   ],
   "source": [
    "xgb_best = XGBClassifier(n_estimators = 110, learning_rate = 0.195, max_depth = 5,min_child_weight = 5, subsample = 0.6, eval_metric='logloss')\n",
    "xgb_best.fit(x_tr, y_tr)\n",
    "model_score(xgb_best)"
   ]
  },
  {
   "cell_type": "markdown",
   "id": "ad83cd5f-b033-406c-ac2e-525343da2681",
   "metadata": {
    "jp-MarkdownHeadingCollapsed": true
   },
   "source": [
    "## 4. test\n",
    "- test 데이터 불어와서 train과 같은 전처리 과정을 수행한수 학습된 모델에 적용하여 점수 확인"
   ]
  },
  {
   "cell_type": "code",
   "execution_count": 41,
   "id": "282d74fc-d0b0-4ac3-ad4e-c03a77828ea8",
   "metadata": {},
   "outputs": [
    {
     "name": "stdout",
     "output_type": "stream",
     "text": [
      "<class 'pandas.core.frame.DataFrame'>\n",
      "RangeIndex: 418 entries, 0 to 417\n",
      "Data columns (total 11 columns):\n",
      " #   Column       Non-Null Count  Dtype  \n",
      "---  ------       --------------  -----  \n",
      " 0   PassengerId  418 non-null    int64  \n",
      " 1   Pclass       418 non-null    int64  \n",
      " 2   Name         418 non-null    object \n",
      " 3   Sex          418 non-null    object \n",
      " 4   Age          332 non-null    float64\n",
      " 5   SibSp        418 non-null    int64  \n",
      " 6   Parch        418 non-null    int64  \n",
      " 7   Ticket       418 non-null    object \n",
      " 8   Fare         417 non-null    float64\n",
      " 9   Cabin        91 non-null     object \n",
      " 10  Embarked     418 non-null    object \n",
      "dtypes: float64(2), int64(4), object(5)\n",
      "memory usage: 36.1+ KB\n"
     ]
    }
   ],
   "source": [
    "test = pd.read_csv('titanic/test.csv')\n",
    "test.info()"
   ]
  },
  {
   "cell_type": "code",
   "execution_count": 42,
   "id": "76c825bc-bea4-4ecd-bbb2-eb439a2ad49a",
   "metadata": {},
   "outputs": [],
   "source": [
    "t_test = test.drop( [\"PassengerId\", \"Ticket\"], axis = 1)"
   ]
  },
  {
   "cell_type": "code",
   "execution_count": 43,
   "id": "1398e23d-3193-4dc5-a212-fdce35e8e6aa",
   "metadata": {},
   "outputs": [],
   "source": [
    "t_test[\"Age\"] = t_test[\"Age\"].fillna(age_mean)"
   ]
  },
  {
   "cell_type": "code",
   "execution_count": 44,
   "id": "055f80dc-8911-4783-8ba9-33442fc26843",
   "metadata": {},
   "outputs": [],
   "source": [
    "t_test[\"Cabin\"] = t_test[\"Cabin\"].fillna(\"Z\")"
   ]
  },
  {
   "cell_type": "code",
   "execution_count": 45,
   "id": "a754b502-cba3-4c0c-bfaa-88ba01f1233b",
   "metadata": {},
   "outputs": [],
   "source": [
    "t_test[\"Cabin\"] = t_test[\"Cabin\"].apply(lambda x : x[0])"
   ]
  },
  {
   "cell_type": "code",
   "execution_count": 46,
   "id": "a9ff8658-47a5-4217-ac27-fb37e7fbf281",
   "metadata": {},
   "outputs": [],
   "source": [
    "t_test['title'] = t_test['Name'].str.extract(\"( [A-z]+)\\.\")\n",
    "\n",
    "test_cnt = t_test['title'].value_counts()\n",
    "test_if = test_cnt[test_cnt < 10]\n",
    "t_test['title'] = t_test['title'].replace(test_if.index , 'other')"
   ]
  },
  {
   "cell_type": "code",
   "execution_count": 47,
   "id": "2cbd744b-f025-43b2-88f9-b60f3229ee74",
   "metadata": {},
   "outputs": [],
   "source": [
    "bin_Age = [0,10,20,30,40,50,60,70,80]\n",
    "t_test[\"AgeGroup\"] = pd.cut(t_test[\"Age\"], bins=bin_Age)\n",
    "bin_Fare = [0,10,20,30,40,600]\n",
    "t_test[\"FareGroup\"] = pd.cut(t_test[\"Fare\"], bins=bin_Fare)\n"
   ]
  },
  {
   "cell_type": "code",
   "execution_count": 48,
   "id": "edab5a92-bc6d-44de-a86e-eb258ec2aa04",
   "metadata": {},
   "outputs": [],
   "source": [
    "t_test['family'] = t_test['SibSp'] + t_test['Parch']\n",
    "\n",
    "t_test.loc[ t_test['family'] >=6 ,'family'] = 6 "
   ]
  },
  {
   "cell_type": "code",
   "execution_count": 49,
   "id": "a66a43e8-bf69-4298-be88-7b0a39c515d2",
   "metadata": {},
   "outputs": [
    {
     "name": "stdout",
     "output_type": "stream",
     "text": [
      "<class 'pandas.core.frame.DataFrame'>\n",
      "RangeIndex: 418 entries, 0 to 417\n",
      "Data columns (total 13 columns):\n",
      " #   Column     Non-Null Count  Dtype   \n",
      "---  ------     --------------  -----   \n",
      " 0   Pclass     418 non-null    int64   \n",
      " 1   Name       418 non-null    object  \n",
      " 2   Sex        418 non-null    object  \n",
      " 3   Age        418 non-null    float64 \n",
      " 4   SibSp      418 non-null    int64   \n",
      " 5   Parch      418 non-null    int64   \n",
      " 6   Fare       417 non-null    float64 \n",
      " 7   Cabin      418 non-null    object  \n",
      " 8   Embarked   418 non-null    object  \n",
      " 9   title      418 non-null    object  \n",
      " 10  AgeGroup   418 non-null    category\n",
      " 11  FareGroup  415 non-null    category\n",
      " 12  family     418 non-null    int64   \n",
      "dtypes: category(2), float64(2), int64(4), object(5)\n",
      "memory usage: 37.5+ KB\n"
     ]
    }
   ],
   "source": [
    "t_test.info()"
   ]
  },
  {
   "cell_type": "code",
   "execution_count": 50,
   "id": "8be13e39-9a60-42e0-b909-26479dee6753",
   "metadata": {},
   "outputs": [],
   "source": [
    "t_test = t_test.drop([ \"Name\", \"Age\", \"Fare\", \"SibSp\", \"Parch\"], axis = 1)"
   ]
  },
  {
   "cell_type": "code",
   "execution_count": 51,
   "id": "415f6850-7e6e-4dea-ae55-9ad9cd5136f9",
   "metadata": {},
   "outputs": [],
   "source": [
    "for col in [\"Sex\", \"Cabin\", \"Embarked\", \"title\", \"AgeGroup\", \"FareGroup\"]:\n",
    "    encoding(t_test, col)"
   ]
  },
  {
   "cell_type": "code",
   "execution_count": 52,
   "id": "8851fd2d-eb6a-477c-83a2-36d00d0e82bc",
   "metadata": {},
   "outputs": [
    {
     "data": {
      "text/plain": [
       "Index(['Pclass', 'Sex', 'Cabin', 'Embarked', 'title', 'AgeGroup', 'FareGroup',\n",
       "       'family'],\n",
       "      dtype='object')"
      ]
     },
     "execution_count": 52,
     "metadata": {},
     "output_type": "execute_result"
    }
   ],
   "source": [
    "t_test.columns"
   ]
  },
  {
   "cell_type": "code",
   "execution_count": 53,
   "id": "6e65b81a-e2ae-4407-a6ce-15f14bde0578",
   "metadata": {},
   "outputs": [],
   "source": [
    "t_test = t_test[['Pclass', 'Sex', 'Cabin', 'Embarked', 'title', 'family', 'AgeGroup', 'FareGroup']]"
   ]
  },
  {
   "cell_type": "code",
   "execution_count": 54,
   "id": "99230ace-d038-4b51-82cc-c2752c2c42ba",
   "metadata": {},
   "outputs": [],
   "source": [
    "pre = rf_best.predict(t_test)"
   ]
  },
  {
   "cell_type": "code",
   "execution_count": 55,
   "id": "cdc6e69d-cbfe-4677-b8d7-568c58f2e005",
   "metadata": {},
   "outputs": [],
   "source": [
    "real = pd.read_csv('titanic/gender_submission.csv')"
   ]
  },
  {
   "cell_type": "code",
   "execution_count": 56,
   "id": "d84588a0-1fe2-4b5a-bbbd-b36af3ba48ce",
   "metadata": {},
   "outputs": [],
   "source": [
    "real = real.drop( [\"PassengerId\"] , axis = 1)"
   ]
  },
  {
   "cell_type": "code",
   "execution_count": 57,
   "id": "8bc3fbec-7a52-41e3-a1db-dcafcedf902b",
   "metadata": {},
   "outputs": [
    {
     "name": "stdout",
     "output_type": "stream",
     "text": [
      "              precision    recall  f1-score   support\n",
      "\n",
      "           0       0.95      0.98      0.96       257\n",
      "           1       0.97      0.91      0.94       161\n",
      "\n",
      "    accuracy                           0.95       418\n",
      "   macro avg       0.96      0.95      0.95       418\n",
      "weighted avg       0.95      0.95      0.95       418\n",
      "\n"
     ]
    }
   ],
   "source": [
    "print(metrics.classification_report(pre, real))"
   ]
  }
 ],
 "metadata": {
  "kernelspec": {
   "display_name": "Python 3 (ipykernel)",
   "language": "python",
   "name": "python3"
  },
  "language_info": {
   "codemirror_mode": {
    "name": "ipython",
    "version": 3
   },
   "file_extension": ".py",
   "mimetype": "text/x-python",
   "name": "python",
   "nbconvert_exporter": "python",
   "pygments_lexer": "ipython3",
   "version": "3.11.7"
  }
 },
 "nbformat": 4,
 "nbformat_minor": 5
}
